{
  "nbformat": 4,
  "nbformat_minor": 0,
  "metadata": {
    "colab": {
      "name": "Copy of exe 1.ipynb",
      "provenance": [],
      "authorship_tag": "ABX9TyNWB7kcfMnMKiw0gNnaXjdU",
      "include_colab_link": true
    },
    "kernelspec": {
      "name": "python3",
      "display_name": "Python 3"
    },
    "language_info": {
      "name": "python"
    },
    "accelerator": "GPU"
  },
  "cells": [
    {
      "cell_type": "markdown",
      "metadata": {
        "id": "view-in-github",
        "colab_type": "text"
      },
      "source": [
        "<a href=\"https://colab.research.google.com/github/medlandolsi/landolsi/blob/main/Copy_of_exe_1.ipynb\" target=\"_parent\"><img src=\"https://colab.research.google.com/assets/colab-badge.svg\" alt=\"Open In Colab\"/></a>"
      ]
    },
    {
      "cell_type": "code",
      "metadata": {
        "colab": {
          "base_uri": "https://localhost:8080/"
        },
        "id": "js0-DBzUrQJK",
        "outputId": "b6c4a7d9-d618-4110-d851-9cb6976bf5c1"
      },
      "source": [
        "hello = 'hello world'\n",
        "print (hello)\n"
      ],
      "execution_count": null,
      "outputs": [
        {
          "output_type": "stream",
          "name": "stdout",
          "text": [
            "hello world\n"
          ]
        }
      ]
    },
    {
      "cell_type": "code",
      "metadata": {
        "colab": {
          "base_uri": "https://localhost:8080/"
        },
        "id": "Xgjf6v_Ps1Z4",
        "outputId": "5bec50e3-86f3-4cf2-fb00-478a3f08a0fe"
      },
      "source": [
        "print(hello,'bonjour le monde')\n"
      ],
      "execution_count": null,
      "outputs": [
        {
          "output_type": "stream",
          "name": "stdout",
          "text": [
            "hello world bonjour le monde\n"
          ]
        }
      ]
    },
    {
      "cell_type": "code",
      "metadata": {
        "colab": {
          "base_uri": "https://localhost:8080/"
        },
        "id": "Zfdm6rQptQfh",
        "outputId": "64bad9bd-c2fd-47eb-f9d8-c35039e27e0d"
      },
      "source": [
        "prix =3000 \n",
        "print(prix)\n",
        "a=10000; b=20000; c=30000 \n",
        "print(a+b/c)\n",
        "del prix\n",
        "print('hnjxdnvjdb')"
      ],
      "execution_count": null,
      "outputs": [
        {
          "output_type": "stream",
          "name": "stdout",
          "text": [
            "3000\n",
            "10000.666666666666\n",
            "hnjxdnvjdb\n"
          ]
        }
      ]
    },
    {
      "cell_type": "code",
      "metadata": {
        "colab": {
          "base_uri": "https://localhost:8080/"
        },
        "id": "eJHx06rnvAxJ",
        "outputId": "b7941548-1b3c-403d-df86-7aa1199eabe4"
      },
      "source": [
        "my_int =2.5\n",
        "type(my_int)"
      ],
      "execution_count": null,
      "outputs": [
        {
          "output_type": "execute_result",
          "data": {
            "text/plain": [
              "float"
            ]
          },
          "metadata": {},
          "execution_count": 12
        }
      ]
    },
    {
      "cell_type": "code",
      "metadata": {
        "colab": {
          "base_uri": "https://localhost:8080/",
          "height": 281
        },
        "id": "9lCp0d4oa7PE",
        "outputId": "b3ac9f80-af2b-4663-810d-42de76d9546d"
      },
      "source": [
        "import numpy as np \n",
        "from matplotlib import pyplot as plt \n",
        "\n",
        "y = np.random.randn(200)\n",
        "x = [x for x in range(len(y))]\n",
        "\n",
        "plt.plot(x,y,'.')\n",
        "plt.fill_between(x, y, 100, where=(y>10), facecolor='g', alpha=0.8)\n",
        "\n",
        "plt.title(\"sample plot\")\n",
        "plt.show()"
      ],
      "execution_count": 32,
      "outputs": [
        {
          "output_type": "display_data",
          "data": {
            "image/png": "[encoded data removed]",
            "text/plain": [
              "<Figure size 432x288 with 1 Axes>"
            ]
          },
          "metadata": {
            "needs_background": "light"
          }
        }
      ]
    }
  ]
}