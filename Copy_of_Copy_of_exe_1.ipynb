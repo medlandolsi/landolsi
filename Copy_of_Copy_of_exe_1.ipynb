{
  "nbformat": 4,
  "nbformat_minor": 0,
  "metadata": {
    "colab": {
      "name": "Copy of Copy of exe 1.ipynb",
      "provenance": [],
      "collapsed_sections": [],
      "authorship_tag": "ABX9TyPNHsnMK4GscTqynAe4McEK",
      "include_colab_link": true
    },
    "kernelspec": {
      "name": "python3",
      "display_name": "Python 3"
    },
    "language_info": {
      "name": "python"
    },
    "accelerator": "GPU"
  },
  "cells": [
    {
      "cell_type": "markdown",
      "metadata": {
        "id": "view-in-github",
        "colab_type": "text"
      },
      "source": [
        "<a href=\"https://colab.research.google.com/github/medlandolsi/landolsi/blob/main/Copy_of_Copy_of_exe_1.ipynb\" target=\"_parent\"><img src=\"https://colab.research.google.com/assets/colab-badge.svg\" alt=\"Open In Colab\"/></a>"
      ]
    },
    {
      "cell_type": "code",
      "metadata": {
        "colab": {
          "base_uri": "https://localhost:8080/"
        },
        "id": "js0-DBzUrQJK",
        "outputId": "b6c4a7d9-d618-4110-d851-9cb6976bf5c1"
      },
      "source": [
        "hello = 'hello world'\n",
        "print (hello)\n"
      ],
      "execution_count": null,
      "outputs": [
        {
          "output_type": "stream",
          "name": "stdout",
          "text": [
            "hello world\n"
          ]
        }
      ]
    },
    {
      "cell_type": "code",
      "metadata": {
        "colab": {
          "base_uri": "https://localhost:8080/"
        },
        "id": "Xgjf6v_Ps1Z4",
        "outputId": "5bec50e3-86f3-4cf2-fb00-478a3f08a0fe"
      },
      "source": [
        "print(hello,'bonjour le monde')\n"
      ],
      "execution_count": null,
      "outputs": [
        {
          "output_type": "stream",
          "name": "stdout",
          "text": [
            "hello world bonjour le monde\n"
          ]
        }
      ]
    },
    {
      "cell_type": "code",
      "metadata": {
        "colab": {
          "base_uri": "https://localhost:8080/"
        },
        "id": "Zfdm6rQptQfh",
        "outputId": "64bad9bd-c2fd-47eb-f9d8-c35039e27e0d"
      },
      "source": [
        "prix =3000 \n",
        "print(prix)\n",
        "a=10000; b=20000; c=30000 \n",
        "print(a+b/c)\n",
        "del prix\n",
        "print('hnjxdnvjdb')"
      ],
      "execution_count": null,
      "outputs": [
        {
          "output_type": "stream",
          "name": "stdout",
          "text": [
            "3000\n",
            "10000.666666666666\n",
            "hnjxdnvjdb\n"
          ]
        }
      ]
    },
    {
      "cell_type": "code",
      "metadata": {
        "colab": {
          "base_uri": "https://localhost:8080/"
        },
        "id": "eJHx06rnvAxJ",
        "outputId": "b7941548-1b3c-403d-df86-7aa1199eabe4"
      },
      "source": [
        "my_int =2.5\n",
        "type(my_int)"
      ],
      "execution_count": null,
      "outputs": [
        {
          "output_type": "execute_result",
          "data": {
            "text/plain": [
              "float"
            ]
          },
          "metadata": {},
          "execution_count": 12
        }
      ]
    },
    {
      "cell_type": "code",
      "metadata": {
        "colab": {
          "base_uri": "https://localhost:8080/",
          "height": 281
        },
        "id": "9lCp0d4oa7PE",
        "outputId": "b6e45fa2-d166-4014-ae32-e8d5d4bdc703"
      },
      "source": [
        "import numpy as np \n",
        "from matplotlib import pyplot as plt \n",
        "\n",
        "y = np.random.randn(100)\n",
        "x = [x for x in range(len(y))]\n",
        "\n",
        "plt.plot(x,y,'-\n",
        "\n",
        "')\n",
        "plt.fill_between(x, y, 200, where=(y>195), facecolor='g', alpha=0.6)\n",
        "\n",
        "plt.title(\"sample plot\")\n",
        "plt.show()"
      ],
      "execution_count": null,
      "outputs": [
        {
          "output_type": "display_data",
          "data": {
            "image/png": "[encoded data removed]",
            "text/plain": [
              "<Figure size 432x288 with 1 Axes>"
            ]
          },
          "metadata": {
            "needs_background": "light"
          }
        }
      ]
    },
    {
      "cell_type": "code",
      "metadata": {
        "id": "6OtS2OqGpNrS"
      },
      "source": [
        "!pip install -q keras\n"
      ],
      "execution_count": null,
      "outputs": []
    },
    {
      "cell_type": "code",
      "metadata": {
        "colab": {
          "base_uri": "https://localhost:8080/"
        },
        "id": "obM79jgCqG6D",
        "outputId": "97813956-ff6a-42dc-b588-2de89d724c4b"
      },
      "source": [
        "!apt-get -qq install -y libsm6 libxext6 && pip install -q -u opencv-python"
      ],
      "execution_count": null,
      "outputs": [
        {
          "output_type": "stream",
          "name": "stdout",
          "text": [
            "\n",
            "Usage:   \n",
            "  pip3 install [options] <requirement specifier> [package-index-options] ...\n",
            "  pip3 install [options] -r <requirements file> [package-index-options] ...\n",
            "  pip3 install [options] [-e] <vcs project url> ...\n",
            "  pip3 install [options] [-e] <local project path> ...\n",
            "  pip3 install [options] <archive url/path> ...\n",
            "\n",
            "no such option: -u\n"
          ]
        }
      ]
    },
    {
      "cell_type": "code",
      "metadata": {
        "colab": {
          "base_uri": "https://localhost:8080/"
        },
        "id": "PH44QWNfrrfC",
        "outputId": "2ccd5d03-3d5f-4919-f185-45aa2dc2f52d"
      },
      "source": [
        "!python3 \"/content/drive/my drive/app/mnist_cnn.py\""
      ],
      "execution_count": null,
      "outputs": [
        {
          "output_type": "stream",
          "name": "stdout",
          "text": [
            "python3: can't open file '/content/drive/my drive/app/mnist_cnn.py': [Errno 2] No such file or directory\n"
          ]
        }
      ]
    },
    {
      "cell_type": "code",
      "metadata": {
        "colab": {
          "base_uri": "https://localhost:8080/",
          "height": 35
        },
        "id": "skWztJuOtjor",
        "outputId": "545f104a-2f40-4b52-e115-68dda4f9d8d7"
      },
      "source": [
        "import tensorflow as tf \n",
        "tf.test.gpu_device_name()"
      ],
      "execution_count": null,
      "outputs": [
        {
          "output_type": "execute_result",
          "data": {
            "application/vnd.google.colaboratory.intrinsic+json": {
              "type": "string"
            },
            "text/plain": [
              "'/device:GPU:0'"
            ]
          },
          "metadata": {},
          "execution_count": 3
        }
      ]
    },
    {
      "cell_type": "code",
      "metadata": {
        "id": "_5LjtpXVtuD7",
        "outputId": "2f962499-8985-4531-ae9a-9c89a74bd5e8",
        "colab": {
          "base_uri": "https://localhost:8080/"
        }
      },
      "source": [
        "from tensorflow.python.client import device_lib\n",
        "device_lib.list_local_devices()"
      ],
      "execution_count": 2,
      "outputs": [
        {
          "output_type": "execute_result",
          "data": {
            "text/plain": [
              "[name: \"/device:CPU:0\"\n",
              " device_type: \"CPU\"\n",
              " memory_limit: 268435456\n",
              " locality {\n",
              " }\n",
              " incarnation: 7331366421856873938, name: \"/device:GPU:0\"\n",
              " device_type: \"GPU\"\n",
              " memory_limit: 11345264640\n",
              " locality {\n",
              "   bus_id: 1\n",
              "   links {\n",
              "   }\n",
              " }\n",
              " incarnation: 1285057706467827502\n",
              " physical_device_desc: \"device: 0, name: Tesla K80, pci bus id: 0000:00:04.0, compute capability: 3.7\"]"
            ]
          },
          "metadata": {},
          "execution_count": 2
        }
      ]
    },
    {
      "cell_type": "code",
      "metadata": {
        "id": "XfTepLhaxP-p",
        "outputId": "a266ebfc-8c7b-4d29-c8b5-a8c47e8c55ee",
        "colab": {
          "base_uri": "https://localhost:8080/"
        }
      },
      "source": [
        "! cat /proc/meminfo"
      ],
      "execution_count": 3,
      "outputs": [
        {
          "output_type": "stream",
          "name": "stdout",
          "text": [
            "MemTotal:       13302924 kB\n",
            "MemFree:         9390876 kB\n",
            "MemAvailable:   12127232 kB\n",
            "Buffers:          131340 kB\n",
            "Cached:          2640992 kB\n",
            "SwapCached:            0 kB\n",
            "Active:          1285752 kB\n",
            "Inactive:        2267852 kB\n",
            "Active(anon):     645480 kB\n",
            "Inactive(anon):     2504 kB\n",
            "Active(file):     640272 kB\n",
            "Inactive(file):  2265348 kB\n",
            "Unevictable:           0 kB\n",
            "Mlocked:               0 kB\n",
            "SwapTotal:             0 kB\n",
            "SwapFree:              0 kB\n",
            "Dirty:               408 kB\n",
            "Writeback:             0 kB\n",
            "AnonPages:        781268 kB\n",
            "Mapped:           572368 kB\n",
            "Shmem:              3228 kB\n",
            "KReclaimable:     144420 kB\n",
            "Slab:             202072 kB\n",
            "SReclaimable:     144420 kB\n",
            "SUnreclaim:        57652 kB\n",
            "KernelStack:        4784 kB\n",
            "PageTables:         8604 kB\n",
            "NFS_Unstable:          0 kB\n",
            "Bounce:                0 kB\n",
            "WritebackTmp:          0 kB\n",
            "CommitLimit:     6651460 kB\n",
            "Committed_AS:    3547124 kB\n",
            "VmallocTotal:   34359738367 kB\n",
            "VmallocUsed:       46496 kB\n",
            "VmallocChunk:          0 kB\n",
            "Percpu:             1416 kB\n",
            "AnonHugePages:         0 kB\n",
            "ShmemHugePages:        0 kB\n",
            "ShmemPmdMapped:        0 kB\n",
            "FileHugePages:         0 kB\n",
            "FilePmdMapped:         0 kB\n",
            "CmaTotal:              0 kB\n",
            "CmaFree:               0 kB\n",
            "HugePages_Total:       0\n",
            "HugePages_Free:        0\n",
            "HugePages_Rsvd:        0\n",
            "HugePages_Surp:        0\n",
            "Hugepagesize:       2048 kB\n",
            "Hugetlb:               0 kB\n",
            "DirectMap4k:      203584 kB\n",
            "DirectMap2M:     6084608 kB\n",
            "DirectMap1G:     9437184 kB\n"
          ]
        }
      ]
    }
  ]
}